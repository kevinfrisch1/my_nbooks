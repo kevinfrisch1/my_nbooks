{
 "cells": [
  {
   "cell_type": "markdown",
   "id": "209d1e5e-1a13-4dd6-8d90-a9af0938c1ce",
   "metadata": {},
   "source": [
    "# CHAPTER 10 - SIMPLE LINEAR REGRESSION"
   ]
  },
  {
   "cell_type": "markdown",
   "id": "41ffe256-a877-4633-9dc5-c1f179316780",
   "metadata": {},
   "source": [
    "## By Kevin Frisch"
   ]
  },
  {
   "cell_type": "markdown",
   "id": "5d1df4a5-d57b-4b6d-9e38-f80c523d95cb",
   "metadata": {},
   "source": [
    "## What does a Simple Linear Regression Model do? "
   ]
  },
  {
   "cell_type": "markdown",
   "id": "4185caec-e8fc-4651-966d-86d161e49b57",
   "metadata": {},
   "source": [
    "#### Simple linear regression is used to model the relationship between two continuosu variables.  Often, the objective is to predict the value of an output variable (or response) based on the value of an input (or predictor) variable."
   ]
  },
  {
   "cell_type": "code",
   "execution_count": 1,
   "id": "87deb872-f8df-40e2-84c4-a498858d1b60",
   "metadata": {},
   "outputs": [],
   "source": [
    "import pandas as pd\n",
    "import seaborn as sns\n",
    "import matplotlib.pyplot as plt\n",
    "import numpy as np\n",
    "\n",
    "%matplotlib inline"
   ]
  },
  {
   "cell_type": "code",
   "execution_count": 2,
   "id": "70363884-7406-4d95-adc0-9b251dfab790",
   "metadata": {},
   "outputs": [],
   "source": [
    "data = sns.load_dataset('diamonds')"
   ]
  },
  {
   "cell_type": "code",
   "execution_count": 3,
   "id": "48ad7266-790b-42b1-bffb-4deede5c9d12",
   "metadata": {},
   "outputs": [
    {
     "data": {
      "text/html": [
       "<div>\n",
       "<style scoped>\n",
       "    .dataframe tbody tr th:only-of-type {\n",
       "        vertical-align: middle;\n",
       "    }\n",
       "\n",
       "    .dataframe tbody tr th {\n",
       "        vertical-align: top;\n",
       "    }\n",
       "\n",
       "    .dataframe thead th {\n",
       "        text-align: right;\n",
       "    }\n",
       "</style>\n",
       "<table border=\"1\" class=\"dataframe\">\n",
       "  <thead>\n",
       "    <tr style=\"text-align: right;\">\n",
       "      <th></th>\n",
       "      <th>carat</th>\n",
       "      <th>cut</th>\n",
       "      <th>color</th>\n",
       "      <th>clarity</th>\n",
       "      <th>depth</th>\n",
       "      <th>table</th>\n",
       "      <th>price</th>\n",
       "      <th>x</th>\n",
       "      <th>y</th>\n",
       "      <th>z</th>\n",
       "    </tr>\n",
       "  </thead>\n",
       "  <tbody>\n",
       "    <tr>\n",
       "      <th>0</th>\n",
       "      <td>0.23</td>\n",
       "      <td>Ideal</td>\n",
       "      <td>E</td>\n",
       "      <td>SI2</td>\n",
       "      <td>61.5</td>\n",
       "      <td>55.0</td>\n",
       "      <td>326</td>\n",
       "      <td>3.95</td>\n",
       "      <td>3.98</td>\n",
       "      <td>2.43</td>\n",
       "    </tr>\n",
       "    <tr>\n",
       "      <th>1</th>\n",
       "      <td>0.21</td>\n",
       "      <td>Premium</td>\n",
       "      <td>E</td>\n",
       "      <td>SI1</td>\n",
       "      <td>59.8</td>\n",
       "      <td>61.0</td>\n",
       "      <td>326</td>\n",
       "      <td>3.89</td>\n",
       "      <td>3.84</td>\n",
       "      <td>2.31</td>\n",
       "    </tr>\n",
       "    <tr>\n",
       "      <th>2</th>\n",
       "      <td>0.23</td>\n",
       "      <td>Good</td>\n",
       "      <td>E</td>\n",
       "      <td>VS1</td>\n",
       "      <td>56.9</td>\n",
       "      <td>65.0</td>\n",
       "      <td>327</td>\n",
       "      <td>4.05</td>\n",
       "      <td>4.07</td>\n",
       "      <td>2.31</td>\n",
       "    </tr>\n",
       "    <tr>\n",
       "      <th>3</th>\n",
       "      <td>0.29</td>\n",
       "      <td>Premium</td>\n",
       "      <td>I</td>\n",
       "      <td>VS2</td>\n",
       "      <td>62.4</td>\n",
       "      <td>58.0</td>\n",
       "      <td>334</td>\n",
       "      <td>4.20</td>\n",
       "      <td>4.23</td>\n",
       "      <td>2.63</td>\n",
       "    </tr>\n",
       "    <tr>\n",
       "      <th>4</th>\n",
       "      <td>0.31</td>\n",
       "      <td>Good</td>\n",
       "      <td>J</td>\n",
       "      <td>SI2</td>\n",
       "      <td>63.3</td>\n",
       "      <td>58.0</td>\n",
       "      <td>335</td>\n",
       "      <td>4.34</td>\n",
       "      <td>4.35</td>\n",
       "      <td>2.75</td>\n",
       "    </tr>\n",
       "  </tbody>\n",
       "</table>\n",
       "</div>"
      ],
      "text/plain": [
       "   carat      cut color clarity  depth  table  price     x     y     z\n",
       "0   0.23    Ideal     E     SI2   61.5   55.0    326  3.95  3.98  2.43\n",
       "1   0.21  Premium     E     SI1   59.8   61.0    326  3.89  3.84  2.31\n",
       "2   0.23     Good     E     VS1   56.9   65.0    327  4.05  4.07  2.31\n",
       "3   0.29  Premium     I     VS2   62.4   58.0    334  4.20  4.23  2.63\n",
       "4   0.31     Good     J     SI2   63.3   58.0    335  4.34  4.35  2.75"
      ]
     },
     "execution_count": 3,
     "metadata": {},
     "output_type": "execute_result"
    }
   ],
   "source": [
    "data.head()"
   ]
  },
  {
   "cell_type": "markdown",
   "id": "9eec6d6c-efa2-45b5-b5d2-658b9d1f9f01",
   "metadata": {},
   "source": [
    "## Pearson Correlation Coefficient (r-value)\n",
    "- R-Value helps determine how well the model is blend and how well the output value is explained by the determining(independent) variables of the dataset.\n",
    "- It is another way to identify correlations, for the correlation between each pair of numeric variables in a DataFrame.  \n",
    "- When the r-value is close to 1.0, it indicates a strong positive correlation\n",
    "- When the r-value is close to -1.0, it indicates a strong negative correlation\n",
    "- When the r-value is 0, that corresponds to the case in which there's no linear relationship between x and y."
   ]
  },
  {
   "cell_type": "code",
   "execution_count": 4,
   "id": "eda3efac-bda8-4669-84d3-72efdf10a37c",
   "metadata": {},
   "outputs": [
    {
     "name": "stderr",
     "output_type": "stream",
     "text": [
      "C:\\Users\\kevin\\AppData\\Local\\Temp\\ipykernel_11448\\3186334780.py:1: FutureWarning: The default value of numeric_only in DataFrame.corr is deprecated. In a future version, it will default to False. Select only valid columns or specify the value of numeric_only to silence this warning.\n",
      "  data.corr()[['carat', 'depth', 'table', 'price', 'x', 'y', 'z',]]\n"
     ]
    },
    {
     "data": {
      "text/html": [
       "<div>\n",
       "<style scoped>\n",
       "    .dataframe tbody tr th:only-of-type {\n",
       "        vertical-align: middle;\n",
       "    }\n",
       "\n",
       "    .dataframe tbody tr th {\n",
       "        vertical-align: top;\n",
       "    }\n",
       "\n",
       "    .dataframe thead th {\n",
       "        text-align: right;\n",
       "    }\n",
       "</style>\n",
       "<table border=\"1\" class=\"dataframe\">\n",
       "  <thead>\n",
       "    <tr style=\"text-align: right;\">\n",
       "      <th></th>\n",
       "      <th>carat</th>\n",
       "      <th>depth</th>\n",
       "      <th>table</th>\n",
       "      <th>price</th>\n",
       "      <th>x</th>\n",
       "      <th>y</th>\n",
       "      <th>z</th>\n",
       "    </tr>\n",
       "  </thead>\n",
       "  <tbody>\n",
       "    <tr>\n",
       "      <th>carat</th>\n",
       "      <td>1.000000</td>\n",
       "      <td>0.028224</td>\n",
       "      <td>0.181618</td>\n",
       "      <td>0.921591</td>\n",
       "      <td>0.975094</td>\n",
       "      <td>0.951722</td>\n",
       "      <td>0.953387</td>\n",
       "    </tr>\n",
       "    <tr>\n",
       "      <th>depth</th>\n",
       "      <td>0.028224</td>\n",
       "      <td>1.000000</td>\n",
       "      <td>-0.295779</td>\n",
       "      <td>-0.010647</td>\n",
       "      <td>-0.025289</td>\n",
       "      <td>-0.029341</td>\n",
       "      <td>0.094924</td>\n",
       "    </tr>\n",
       "    <tr>\n",
       "      <th>table</th>\n",
       "      <td>0.181618</td>\n",
       "      <td>-0.295779</td>\n",
       "      <td>1.000000</td>\n",
       "      <td>0.127134</td>\n",
       "      <td>0.195344</td>\n",
       "      <td>0.183760</td>\n",
       "      <td>0.150929</td>\n",
       "    </tr>\n",
       "    <tr>\n",
       "      <th>price</th>\n",
       "      <td>0.921591</td>\n",
       "      <td>-0.010647</td>\n",
       "      <td>0.127134</td>\n",
       "      <td>1.000000</td>\n",
       "      <td>0.884435</td>\n",
       "      <td>0.865421</td>\n",
       "      <td>0.861249</td>\n",
       "    </tr>\n",
       "    <tr>\n",
       "      <th>x</th>\n",
       "      <td>0.975094</td>\n",
       "      <td>-0.025289</td>\n",
       "      <td>0.195344</td>\n",
       "      <td>0.884435</td>\n",
       "      <td>1.000000</td>\n",
       "      <td>0.974701</td>\n",
       "      <td>0.970772</td>\n",
       "    </tr>\n",
       "    <tr>\n",
       "      <th>y</th>\n",
       "      <td>0.951722</td>\n",
       "      <td>-0.029341</td>\n",
       "      <td>0.183760</td>\n",
       "      <td>0.865421</td>\n",
       "      <td>0.974701</td>\n",
       "      <td>1.000000</td>\n",
       "      <td>0.952006</td>\n",
       "    </tr>\n",
       "    <tr>\n",
       "      <th>z</th>\n",
       "      <td>0.953387</td>\n",
       "      <td>0.094924</td>\n",
       "      <td>0.150929</td>\n",
       "      <td>0.861249</td>\n",
       "      <td>0.970772</td>\n",
       "      <td>0.952006</td>\n",
       "      <td>1.000000</td>\n",
       "    </tr>\n",
       "  </tbody>\n",
       "</table>\n",
       "</div>"
      ],
      "text/plain": [
       "          carat     depth     table     price         x         y         z\n",
       "carat  1.000000  0.028224  0.181618  0.921591  0.975094  0.951722  0.953387\n",
       "depth  0.028224  1.000000 -0.295779 -0.010647 -0.025289 -0.029341  0.094924\n",
       "table  0.181618 -0.295779  1.000000  0.127134  0.195344  0.183760  0.150929\n",
       "price  0.921591 -0.010647  0.127134  1.000000  0.884435  0.865421  0.861249\n",
       "x      0.975094 -0.025289  0.195344  0.884435  1.000000  0.974701  0.970772\n",
       "y      0.951722 -0.029341  0.183760  0.865421  0.974701  1.000000  0.952006\n",
       "z      0.953387  0.094924  0.150929  0.861249  0.970772  0.952006  1.000000"
      ]
     },
     "execution_count": 4,
     "metadata": {},
     "output_type": "execute_result"
    }
   ],
   "source": [
    "data.corr()[['carat', 'depth', 'table', 'price', 'x', 'y', 'z',]]"
   ]
  },
  {
   "cell_type": "code",
   "execution_count": 5,
   "id": "cf8a5898-e9b9-4607-9788-6394718c9a9b",
   "metadata": {},
   "outputs": [
    {
     "name": "stderr",
     "output_type": "stream",
     "text": [
      "C:\\Users\\kevin\\AppData\\Local\\Temp\\ipykernel_11448\\1934493991.py:1: FutureWarning: The default value of numeric_only in DataFrame.corr is deprecated. In a future version, it will default to False. Select only valid columns or specify the value of numeric_only to silence this warning.\n",
      "  sns.heatmap(data.corr()[['price']].sort_values(by='price', ascending=False),\n"
     ]
    },
    {
     "data": {
      "text/plain": [
       "<Axes: >"
      ]
     },
     "execution_count": 5,
     "metadata": {},
     "output_type": "execute_result"
    },
    {
     "data": {
      "image/png": "[encoded data removed]",
      "text/plain": [
       "<Figure size 640x480 with 1 Axes>"
      ]
     },
     "metadata": {},
     "output_type": "display_data"
    }
   ],
   "source": [
    "sns.heatmap(data.corr()[['price']].sort_values(by='price', ascending=False),\n",
    "            annot=True, cmap='Greens', cbar=False, fmt=f'.3f')"
   ]
  },
  {
   "cell_type": "markdown",
   "id": "72013c59-0d7a-4f51-8e3d-300c4a287457",
   "metadata": {},
   "source": [
    "## Procedure for Creating and Using a Regression Model\n",
    "1. Split dataset\n",
    "2. Create model from training dataset\n",
    "3. Validate model with test dataset.\n",
    "4. If model is valid, predict data with it."
   ]
  },
  {
   "cell_type": "code",
   "execution_count": 6,
   "id": "3e47e715-a966-45e8-bfb9-8b8e572f0c73",
   "metadata": {},
   "outputs": [],
   "source": [
    "from sklearn.model_selection import train_test_split\n",
    "from sklearn.linear_model import LinearRegression"
   ]
  },
  {
   "cell_type": "code",
   "execution_count": 405,
   "id": "fa8714d4-9e40-42bb-8c61-8fa98a8f5c6c",
   "metadata": {},
   "outputs": [],
   "source": [
    "x_train, x_test, y_train, y_test = train_test_split(data[['carat']], data[['price']], test_size=0.3, random_state=20)"
   ]
  },
  {
   "cell_type": "code",
   "execution_count": 406,
   "id": "06dbf3f3-f74c-47f9-ab84-52291cb78db2",
   "metadata": {},
   "outputs": [],
   "source": [
    "linearModel = LinearRegression()"
   ]
  },
  {
   "cell_type": "code",
   "execution_count": 407,
   "id": "d0f81a86-48e6-4921-a12f-df17adfc4259",
   "metadata": {},
   "outputs": [
    {
     "data": {
      "text/html": [
       "<style>#sk-container-id-78 {color: black;background-color: white;}#sk-container-id-78 pre{padding: 0;}#sk-container-id-78 div.sk-toggleable {background-color: white;}#sk-container-id-78 label.sk-toggleable__label {cursor: pointer;display: block;width: 100%;margin-bottom: 0;padding: 0.3em;box-sizing: border-box;text-align: center;}#sk-container-id-78 label.sk-toggleable__label-arrow:before {content: \"▸\";float: left;margin-right: 0.25em;color: #696969;}#sk-container-id-78 label.sk-toggleable__label-arrow:hover:before {color: black;}#sk-container-id-78 div.sk-estimator:hover label.sk-toggleable__label-arrow:before {color: black;}#sk-container-id-78 div.sk-toggleable__content {max-height: 0;max-width: 0;overflow: hidden;text-align: left;background-color: #f0f8ff;}#sk-container-id-78 div.sk-toggleable__content pre {margin: 0.2em;color: black;border-radius: 0.25em;background-color: #f0f8ff;}#sk-container-id-78 input.sk-toggleable__control:checked~div.sk-toggleable__content {max-height: 200px;max-width: 100%;overflow: auto;}#sk-container-id-78 input.sk-toggleable__control:checked~label.sk-toggleable__label-arrow:before {content: \"▾\";}#sk-container-id-78 div.sk-estimator input.sk-toggleable__control:checked~label.sk-toggleable__label {background-color: #d4ebff;}#sk-container-id-78 div.sk-label input.sk-toggleable__control:checked~label.sk-toggleable__label {background-color: #d4ebff;}#sk-container-id-78 input.sk-hidden--visually {border: 0;clip: rect(1px 1px 1px 1px);clip: rect(1px, 1px, 1px, 1px);height: 1px;margin: -1px;overflow: hidden;padding: 0;position: absolute;width: 1px;}#sk-container-id-78 div.sk-estimator {font-family: monospace;background-color: #f0f8ff;border: 1px dotted black;border-radius: 0.25em;box-sizing: border-box;margin-bottom: 0.5em;}#sk-container-id-78 div.sk-estimator:hover {background-color: #d4ebff;}#sk-container-id-78 div.sk-parallel-item::after {content: \"\";width: 100%;border-bottom: 1px solid gray;flex-grow: 1;}#sk-container-id-78 div.sk-label:hover label.sk-toggleable__label {background-color: #d4ebff;}#sk-container-id-78 div.sk-serial::before {content: \"\";position: absolute;border-left: 1px solid gray;box-sizing: border-box;top: 0;bottom: 0;left: 50%;z-index: 0;}#sk-container-id-78 div.sk-serial {display: flex;flex-direction: column;align-items: center;background-color: white;padding-right: 0.2em;padding-left: 0.2em;position: relative;}#sk-container-id-78 div.sk-item {position: relative;z-index: 1;}#sk-container-id-78 div.sk-parallel {display: flex;align-items: stretch;justify-content: center;background-color: white;position: relative;}#sk-container-id-78 div.sk-item::before, #sk-container-id-78 div.sk-parallel-item::before {content: \"\";position: absolute;border-left: 1px solid gray;box-sizing: border-box;top: 0;bottom: 0;left: 50%;z-index: -1;}#sk-container-id-78 div.sk-parallel-item {display: flex;flex-direction: column;z-index: 1;position: relative;background-color: white;}#sk-container-id-78 div.sk-parallel-item:first-child::after {align-self: flex-end;width: 50%;}#sk-container-id-78 div.sk-parallel-item:last-child::after {align-self: flex-start;width: 50%;}#sk-container-id-78 div.sk-parallel-item:only-child::after {width: 0;}#sk-container-id-78 div.sk-dashed-wrapped {border: 1px dashed gray;margin: 0 0.4em 0.5em 0.4em;box-sizing: border-box;padding-bottom: 0.4em;background-color: white;}#sk-container-id-78 div.sk-label label {font-family: monospace;font-weight: bold;display: inline-block;line-height: 1.2em;}#sk-container-id-78 div.sk-label-container {text-align: center;}#sk-container-id-78 div.sk-container {/* jupyter's `normalize.less` sets `[hidden] { display: none; }` but bootstrap.min.css set `[hidden] { display: none !important; }` so we also need the `!important` here to be able to override the default hidden behavior on the sphinx rendered scikit-learn.org. See: https://github.com/scikit-learn/scikit-learn/issues/21755 */display: inline-block !important;position: relative;}#sk-container-id-78 div.sk-text-repr-fallback {display: none;}</style><div id=\"sk-container-id-78\" class=\"sk-top-container\"><div class=\"sk-text-repr-fallback\"><pre>LinearRegression()</pre><b>In a Jupyter environment, please rerun this cell to show the HTML representation or trust the notebook. <br />On GitHub, the HTML representation is unable to render, please try loading this page with nbviewer.org.</b></div><div class=\"sk-container\" hidden><div class=\"sk-item\"><div class=\"sk-estimator sk-toggleable\"><input class=\"sk-toggleable__control sk-hidden--visually\" id=\"sk-estimator-id-78\" type=\"checkbox\" checked><label for=\"sk-estimator-id-78\" class=\"sk-toggleable__label sk-toggleable__label-arrow\">LinearRegression</label><div class=\"sk-toggleable__content\"><pre>LinearRegression()</pre></div></div></div></div></div>"
      ],
      "text/plain": [
       "LinearRegression()"
      ]
     },
     "execution_count": 407,
     "metadata": {},
     "output_type": "execute_result"
    }
   ],
   "source": [
    "linearModel.fit(x_train, y_train)"
   ]
  },
  {
   "cell_type": "code",
   "execution_count": 408,
   "id": "7045c6a0-712f-4470-a994-f2e483a86cde",
   "metadata": {},
   "outputs": [
    {
     "data": {
      "text/plain": [
       "0.8504107786474794"
      ]
     },
     "execution_count": 408,
     "metadata": {},
     "output_type": "execute_result"
    }
   ],
   "source": [
    "linearModel.score(x_test, y_test)"
   ]
  },
  {
   "cell_type": "code",
   "execution_count": 409,
   "id": "c2bdf637-c998-4420-af86-fdcab4964cf9",
   "metadata": {},
   "outputs": [
    {
     "data": {
      "text/plain": [
       "array([[9540.64191438],\n",
       "       [1940.07543252],\n",
       "       [3180.98424589],\n",
       "       ...,\n",
       "       [9618.19871522],\n",
       "       [-464.18539337],\n",
       "       [5507.68827094]])"
      ]
     },
     "execution_count": 409,
     "metadata": {},
     "output_type": "execute_result"
    }
   ],
   "source": [
    "y_predict = linearModel.predict(x_test)\n",
    "y_predict"
   ]
  },
  {
   "cell_type": "code",
   "execution_count": 399,
   "id": "ac07cdf7-2eba-4a68-84b7-254e12bfe157",
   "metadata": {},
   "outputs": [],
   "source": [
    "predicted = pd.DataFrame(y_train, columns=['Predicted_Price'])"
   ]
  },
  {
   "cell_type": "code",
   "execution_count": 337,
   "id": "1c03fafc-2b22-4f2e-b781-421297ac384f",
   "metadata": {},
   "outputs": [],
   "source": [
    "combined = predicted.join([x_test.reset_index(drop=True),\n",
    "                           y_test.reset_index(drop=True)])"
   ]
  },
  {
   "cell_type": "code",
   "execution_count": 303,
   "id": "72c851ea-ef72-40e3-897a-3e20c9efaf67",
   "metadata": {},
   "outputs": [
    {
     "ename": "TypeError",
     "evalue": "melt() missing 1 required positional argument: 'frame'",
     "output_type": "error",
     "traceback": [
      "\u001b[1;31m---------------------------------------------------------------------------\u001b[0m",
      "\u001b[1;31mTypeError\u001b[0m                                 Traceback (most recent call last)",
      "Cell \u001b[1;32mIn[303], line 1\u001b[0m\n\u001b[1;32m----> 1\u001b[0m melted \u001b[38;5;241m=\u001b[39m \u001b[43mpd\u001b[49m\u001b[38;5;241;43m.\u001b[39;49m\u001b[43mmelt\u001b[49m\u001b[43m(\u001b[49m\u001b[43mid_vars\u001b[49m\u001b[38;5;241;43m=\u001b[39;49m\u001b[43m[\u001b[49m\u001b[38;5;124;43m'\u001b[39;49m\u001b[38;5;124;43mPredicted_Price\u001b[39;49m\u001b[38;5;124;43m'\u001b[39;49m\u001b[43m]\u001b[49m\u001b[43m)\u001b[49m\n",
      "\u001b[1;31mTypeError\u001b[0m: melt() missing 1 required positional argument: 'frame'"
     ]
    }
   ],
   "source": []
  },
  {
   "cell_type": "code",
   "execution_count": 31,
   "id": "dad61e28-81ce-4c99-9bb4-2c1e1fcd144e",
   "metadata": {},
   "outputs": [
    {
     "data": {
      "text/html": [
       "<div>\n",
       "<style scoped>\n",
       "    .dataframe tbody tr th:only-of-type {\n",
       "        vertical-align: middle;\n",
       "    }\n",
       "\n",
       "    .dataframe tbody tr th {\n",
       "        vertical-align: top;\n",
       "    }\n",
       "\n",
       "    .dataframe thead th {\n",
       "        text-align: right;\n",
       "    }\n",
       "</style>\n",
       "<table border=\"1\" class=\"dataframe\">\n",
       "  <thead>\n",
       "    <tr style=\"text-align: right;\">\n",
       "      <th></th>\n",
       "      <th>price_predicted</th>\n",
       "      <th>Predicted_Price</th>\n",
       "      <th>value</th>\n",
       "    </tr>\n",
       "  </thead>\n",
       "  <tbody>\n",
       "    <tr>\n",
       "      <th>0</th>\n",
       "      <td>NaN</td>\n",
       "      <td>x</td>\n",
       "      <td>6.44</td>\n",
       "    </tr>\n",
       "    <tr>\n",
       "      <th>1</th>\n",
       "      <td>NaN</td>\n",
       "      <td>x</td>\n",
       "      <td>7.27</td>\n",
       "    </tr>\n",
       "    <tr>\n",
       "      <th>2</th>\n",
       "      <td>NaN</td>\n",
       "      <td>x</td>\n",
       "      <td>NaN</td>\n",
       "    </tr>\n",
       "  </tbody>\n",
       "</table>\n",
       "</div>"
      ],
      "text/plain": [
       "   price_predicted Predicted_Price  value\n",
       "0              NaN               x   6.44\n",
       "1              NaN               x   7.27\n",
       "2              NaN               x    NaN"
      ]
     },
     "execution_count": 31,
     "metadata": {},
     "output_type": "execute_result"
    }
   ],
   "source": [
    "melted.head(3)"
   ]
  },
  {
   "cell_type": "code",
   "execution_count": 424,
   "id": "5233a8eb-365a-42ac-856e-8c096e276ca5",
   "metadata": {},
   "outputs": [],
   "source": [
    "predict = pd.DataFrame(y_predict, columns=['predicted_price'])"
   ]
  },
  {
   "cell_type": "code",
   "execution_count": 425,
   "id": "d7106825-3528-4402-b9f7-8ceb9dc2433f",
   "metadata": {},
   "outputs": [
    {
     "data": {
      "text/html": [
       "<div>\n",
       "<style scoped>\n",
       "    .dataframe tbody tr th:only-of-type {\n",
       "        vertical-align: middle;\n",
       "    }\n",
       "\n",
       "    .dataframe tbody tr th {\n",
       "        vertical-align: top;\n",
       "    }\n",
       "\n",
       "    .dataframe thead th {\n",
       "        text-align: right;\n",
       "    }\n",
       "</style>\n",
       "<table border=\"1\" class=\"dataframe\">\n",
       "  <thead>\n",
       "    <tr style=\"text-align: right;\">\n",
       "      <th></th>\n",
       "      <th>predicted_price</th>\n",
       "    </tr>\n",
       "  </thead>\n",
       "  <tbody>\n",
       "    <tr>\n",
       "      <th>0</th>\n",
       "      <td>9540.641914</td>\n",
       "    </tr>\n",
       "    <tr>\n",
       "      <th>1</th>\n",
       "      <td>1940.075433</td>\n",
       "    </tr>\n",
       "    <tr>\n",
       "      <th>2</th>\n",
       "      <td>3180.984246</td>\n",
       "    </tr>\n",
       "  </tbody>\n",
       "</table>\n",
       "</div>"
      ],
      "text/plain": [
       "   predicted_price\n",
       "0      9540.641914\n",
       "1      1940.075433\n",
       "2      3180.984246"
      ]
     },
     "execution_count": 425,
     "metadata": {},
     "output_type": "execute_result"
    }
   ],
   "source": [
    "predict.head(3)"
   ]
  },
  {
   "cell_type": "code",
   "execution_count": 411,
   "id": "d84deab7-17dc-4aa0-9e57-b7d9f17f3255",
   "metadata": {},
   "outputs": [],
   "source": [
    "predicted = pd.DataFrame(y_predict, columns=['predicted_price'])"
   ]
  },
  {
   "cell_type": "code",
   "execution_count": 415,
   "id": "f04cab1e-9369-4274-9129-91534f2113fe",
   "metadata": {},
   "outputs": [],
   "source": [
    "combined = predicted.join([x_test.reset_index(drop=True),\n",
    "                          y_test.reset_index(drop=True)])"
   ]
  },
  {
   "cell_type": "code",
   "execution_count": 417,
   "id": "50ea1d96-a2e9-4621-8e37-004ac5538a2a",
   "metadata": {},
   "outputs": [],
   "source": [
    "melted = pd.melt(combined, id_vars=['carat'],\n",
    "                 value_vars=['price', 'predicted_price'],\n",
    "                 var_name='price_type', value_name='price_value')"
   ]
  },
  {
   "cell_type": "code",
   "execution_count": 419,
   "id": "04c5f332-fee5-4bd5-822a-139c02661bdb",
   "metadata": {},
   "outputs": [
    {
     "data": {
      "text/html": [
       "<div>\n",
       "<style scoped>\n",
       "    .dataframe tbody tr th:only-of-type {\n",
       "        vertical-align: middle;\n",
       "    }\n",
       "\n",
       "    .dataframe tbody tr th {\n",
       "        vertical-align: top;\n",
       "    }\n",
       "\n",
       "    .dataframe thead th {\n",
       "        text-align: right;\n",
       "    }\n",
       "</style>\n",
       "<table border=\"1\" class=\"dataframe\">\n",
       "  <thead>\n",
       "    <tr style=\"text-align: right;\">\n",
       "      <th></th>\n",
       "      <th>carat</th>\n",
       "      <th>price_type</th>\n",
       "      <th>price_value</th>\n",
       "    </tr>\n",
       "  </thead>\n",
       "  <tbody>\n",
       "    <tr>\n",
       "      <th>0</th>\n",
       "      <td>1.52</td>\n",
       "      <td>price</td>\n",
       "      <td>8674.000000</td>\n",
       "    </tr>\n",
       "    <tr>\n",
       "      <th>1</th>\n",
       "      <td>0.54</td>\n",
       "      <td>price</td>\n",
       "      <td>1637.000000</td>\n",
       "    </tr>\n",
       "    <tr>\n",
       "      <th>2</th>\n",
       "      <td>0.70</td>\n",
       "      <td>price</td>\n",
       "      <td>2657.000000</td>\n",
       "    </tr>\n",
       "    <tr>\n",
       "      <th>3</th>\n",
       "      <td>0.59</td>\n",
       "      <td>price</td>\n",
       "      <td>1838.000000</td>\n",
       "    </tr>\n",
       "    <tr>\n",
       "      <th>4</th>\n",
       "      <td>0.86</td>\n",
       "      <td>price</td>\n",
       "      <td>2980.000000</td>\n",
       "    </tr>\n",
       "    <tr>\n",
       "      <th>...</th>\n",
       "      <td>...</td>\n",
       "      <td>...</td>\n",
       "      <td>...</td>\n",
       "    </tr>\n",
       "    <tr>\n",
       "      <th>32359</th>\n",
       "      <td>0.31</td>\n",
       "      <td>predicted_price</td>\n",
       "      <td>156.269013</td>\n",
       "    </tr>\n",
       "    <tr>\n",
       "      <th>32360</th>\n",
       "      <td>1.01</td>\n",
       "      <td>predicted_price</td>\n",
       "      <td>5585.245072</td>\n",
       "    </tr>\n",
       "    <tr>\n",
       "      <th>32361</th>\n",
       "      <td>1.53</td>\n",
       "      <td>predicted_price</td>\n",
       "      <td>9618.198715</td>\n",
       "    </tr>\n",
       "    <tr>\n",
       "      <th>32362</th>\n",
       "      <td>0.23</td>\n",
       "      <td>predicted_price</td>\n",
       "      <td>-464.185393</td>\n",
       "    </tr>\n",
       "    <tr>\n",
       "      <th>32363</th>\n",
       "      <td>1.00</td>\n",
       "      <td>predicted_price</td>\n",
       "      <td>5507.688271</td>\n",
       "    </tr>\n",
       "  </tbody>\n",
       "</table>\n",
       "<p>32364 rows × 3 columns</p>\n",
       "</div>"
      ],
      "text/plain": [
       "       carat       price_type  price_value\n",
       "0       1.52            price  8674.000000\n",
       "1       0.54            price  1637.000000\n",
       "2       0.70            price  2657.000000\n",
       "3       0.59            price  1838.000000\n",
       "4       0.86            price  2980.000000\n",
       "...      ...              ...          ...\n",
       "32359   0.31  predicted_price   156.269013\n",
       "32360   1.01  predicted_price  5585.245072\n",
       "32361   1.53  predicted_price  9618.198715\n",
       "32362   0.23  predicted_price  -464.185393\n",
       "32363   1.00  predicted_price  5507.688271\n",
       "\n",
       "[32364 rows x 3 columns]"
      ]
     },
     "execution_count": 419,
     "metadata": {},
     "output_type": "execute_result"
    }
   ],
   "source": [
    "melted"
   ]
  },
  {
   "cell_type": "code",
   "execution_count": 420,
   "id": "cb314d40-e27c-4c74-826f-6a8702460a53",
   "metadata": {},
   "outputs": [
    {
     "data": {
      "text/plain": [
       "<Axes: xlabel='carat', ylabel='price_value'>"
      ]
     },
     "execution_count": 420,
     "metadata": {},
     "output_type": "execute_result"
    },
    {
     "data": {
      "image/png": "[encoded data removed]",
      "text/plain": [
       "<Figure size 640x480 with 1 Axes>"
      ]
     },
     "metadata": {},
     "output_type": "display_data"
    }
   ],
   "source": [
    "sns.lineplot(data=melted, x='carat', y='price_value', hue='price_type')"
   ]
  },
  {
   "cell_type": "markdown",
   "id": "d7e60099-ae3a-4e15-932b-ecad3d1f85a5",
   "metadata": {},
   "source": [
    "## Regression line equation is **y = m**\n",
    "- y is the **dependent** variable\n",
    "- m is the **slope** of the line\n",
    "- x is the **independent** variable\n",
    "- b is the **Y-intercept**"
   ]
  },
  {
   "cell_type": "code",
   "execution_count": 11,
   "id": "5d329b60-2143-4236-8a9f-00321009879c",
   "metadata": {},
   "outputs": [],
   "source": [
    "X = data.carat.values.reshape(-1,1)\n",
    "y = data.price"
   ]
  },
  {
   "cell_type": "code",
   "execution_count": 12,
   "id": "f86cafc7-b782-4872-b089-a6d3e77a2605",
   "metadata": {},
   "outputs": [],
   "source": [
    "lr = LinearRegression()\n",
    "predicted = lr.fit(X,y)"
   ]
  },
  {
   "cell_type": "code",
   "execution_count": 13,
   "id": "bf5b281d-8607-4e32-8923-7a9aed7bf259",
   "metadata": {},
   "outputs": [
    {
     "name": "stdout",
     "output_type": "stream",
     "text": [
      "The slope is [7756.42561797] and the y-intercept is -2256.3605800453947\n"
     ]
    }
   ],
   "source": [
    "m = predicted.coef_\n",
    "b = predicted.intercept_\n",
    "print(f'The slope is {m} and the y-intercept is {b}')"
   ]
  },
  {
   "cell_type": "code",
   "execution_count": 38,
   "id": "1bd2bcf7-b26c-4894-bd91-b8b46c3eb53f",
   "metadata": {},
   "outputs": [
    {
     "name": "stdout",
     "output_type": "stream",
     "text": [
      "Regression line equation is y=[7756.42561797]x+-2256.360580045392\n"
     ]
    }
   ],
   "source": [
    "print(f'Regression line equation is y=[7756.42561797]x+-2256.360580045392')"
   ]
  },
  {
   "cell_type": "code",
   "execution_count": 42,
   "id": "abc67926-f15a-4449-b383-d1fad1da51f9",
   "metadata": {},
   "outputs": [
    {
     "name": "stdout",
     "output_type": "stream",
     "text": [
      "The predicted price for a 0.70 carat diamond is $3,173.14\n"
     ]
    }
   ],
   "source": [
    "print(f'The predicted price for a 0.70 carat diamond is $3,173.14')"
   ]
  },
  {
   "cell_type": "code",
   "execution_count": 43,
   "id": "af364d02-51cd-4886-9a18-b2b37dfe877b",
   "metadata": {},
   "outputs": [
    {
     "name": "stdout",
     "output_type": "stream",
     "text": [
      "The predicted price for a 0.54 carat diamond is $1,932.11\n"
     ]
    }
   ],
   "source": [
    "print(f'The predicted price for a 0.54 carat diamond is $1,932.11')"
   ]
  },
  {
   "cell_type": "code",
   "execution_count": 44,
   "id": "3b092046-1d7d-4ea3-be4d-ff44b2be7b5d",
   "metadata": {},
   "outputs": [
    {
     "name": "stdout",
     "output_type": "stream",
     "text": [
      " Yes the previous two cells are close to the prediction price as the ones we did earlier in this assignment\n"
     ]
    }
   ],
   "source": [
    "print(f' Yes the previous two cells are close to the prediction price as the ones we did earlier in this assignment')"
   ]
  },
  {
   "cell_type": "code",
   "execution_count": null,
   "id": "c47db719-443b-4261-8af7-7e6f52e2b536",
   "metadata": {},
   "outputs": [],
   "source": []
  }
 ],
 "metadata": {
  "kernelspec": {
   "display_name": "Python 3 (ipykernel)",
   "language": "python",
   "name": "python3"
  },
  "language_info": {
   "codemirror_mode": {
    "name": "ipython",
    "version": 3
   },
   "file_extension": ".py",
   "mimetype": "text/x-python",
   "name": "python",
   "nbconvert_exporter": "python",
   "pygments_lexer": "ipython3",
   "version": "3.10.9"
  }
 },
 "nbformat": 4,
 "nbformat_minor": 5
}
